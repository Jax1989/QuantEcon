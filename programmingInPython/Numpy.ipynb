{
 "cells": [
  {
   "cell_type": "markdown",
   "metadata": {},
   "source": [
    "# Exercise 1"
   ]
  },
  {
   "cell_type": "code",
   "execution_count": 1,
   "metadata": {
    "collapsed": true
   },
   "outputs": [],
   "source": [
    "import numpy as np\n",
    "import matplotlib.pyplot as plt"
   ]
  },
  {
   "cell_type": "code",
   "execution_count": 3,
   "metadata": {
    "collapsed": true
   },
   "outputs": [],
   "source": [
    "def poly(x, coeff):\n",
    "    X = np.zeros(len(coeff))\n",
    "    X[0] = 1\n",
    "    X[1:] = x\n",
    "    y = np.cumprod(X)\n",
    "    return np.dot(y, coeff)"
   ]
  },
  {
   "cell_type": "code",
   "execution_count": 4,
   "metadata": {
    "collapsed": false
   },
   "outputs": [
    {
     "name": "stdout",
     "output_type": "stream",
     "text": [
      "[ 1.  1.  1.]\n",
      "3.0\n",
      "3.0\n"
     ]
    }
   ],
   "source": [
    "coeff = np.ones(3)\n",
    "print(coeff)\n",
    "print(poly(1,coeff))\n",
    "\n",
    "q = np.poly1d(coeff)\n",
    "print(q(1))"
   ]
  },
  {
   "cell_type": "markdown",
   "metadata": {},
   "source": [
    "# Exercise 2"
   ]
  },
  {
   "cell_type": "code",
   "execution_count": 2,
   "metadata": {
    "collapsed": true
   },
   "outputs": [],
   "source": [
    "from random import uniform"
   ]
  },
  {
   "cell_type": "code",
   "execution_count": 3,
   "metadata": {
    "collapsed": true
   },
   "outputs": [],
   "source": [
    "def sample(q):\n",
    "    a = 0\n",
    "    U = uniform(0,1)\n",
    "    for i in range(len(q)):\n",
    "        if a < U <= a+q[i]:\n",
    "            return i\n",
    "        else:\n",
    "            a += q[i]"
   ]
  },
  {
   "cell_type": "code",
   "execution_count": 4,
   "metadata": {
    "collapsed": true
   },
   "outputs": [],
   "source": [
    "def smaple2(q):\n",
    "    U = uniform(0,1)\n",
    "    Q = np.cumsum(q)\n",
    "    return Q.searchsorted(U)    "
   ]
  },
  {
   "cell_type": "code",
   "execution_count": 5,
   "metadata": {
    "collapsed": true
   },
   "outputs": [],
   "source": [
    "class discreteRV:\n",
    "    def __init__(self, q):\n",
    "        self.q = q\n",
    "        self.Q = np.cumsum(q)\n",
    "        \n",
    "    def draw(self, k=1):\n",
    "        return self.Q.searchsorted(np.random.uniform(0,1,size=k))"
   ]
  },
  {
   "cell_type": "markdown",
   "metadata": {},
   "source": [
    "# Exercise 3"
   ]
  },
  {
   "cell_type": "code",
   "execution_count": 2,
   "metadata": {
    "collapsed": true
   },
   "outputs": [],
   "source": [
    "from __future__ import division"
   ]
  },
  {
   "cell_type": "code",
   "execution_count": 6,
   "metadata": {
    "collapsed": true
   },
   "outputs": [],
   "source": [
    "class ECDF:\n",
    "    def __init__(self, sample):\n",
    "        self.observation = sample\n",
    "        \n",
    "    def __call__(self, x):\n",
    "        sum = 0\n",
    "        for i in self.observation:\n",
    "            if i < x:\n",
    "                sum += 1\n",
    "        return sum*1.0/len(self.observation)"
   ]
  },
  {
   "cell_type": "code",
   "execution_count": 3,
   "metadata": {
    "collapsed": true
   },
   "outputs": [],
   "source": [
    "class ECDF2:\n",
    "    def __init__(self, observations):\n",
    "        self.observations = np.asarray(observations)\n",
    "        \n",
    "    def __call__(self, x):\n",
    "        return np.mean(self.observations <= x)\n",
    "    \n",
    "    def plot(self, a=None, b=None):\n",
    "        if a==None:\n",
    "            a = self.observations.min()\n",
    "        if b==None:\n",
    "            b = self.observations.max()\n",
    "            \n",
    "        x_val = np.linspace(a, b, num=500)\n",
    "        f = np.vectorize(self.__call__)\n",
    "        \n",
    "        plt.plot(x_val, f(x_val))\n",
    "        plt.show()"
   ]
  },
  {
   "cell_type": "code",
   "execution_count": 4,
   "metadata": {
    "collapsed": true
   },
   "outputs": [],
   "source": [
    "X = np.random.randn(1000)"
   ]
  },
  {
   "cell_type": "code",
   "execution_count": 5,
   "metadata": {
    "collapsed": false
   },
   "outputs": [],
   "source": [
    "F = ECDF2(X)"
   ]
  },
  {
   "cell_type": "code",
   "execution_count": null,
   "metadata": {
    "collapsed": true
   },
   "outputs": [],
   "source": [
    "F.plot()"
   ]
  },
  {
   "cell_type": "code",
   "execution_count": null,
   "metadata": {
    "collapsed": true
   },
   "outputs": [],
   "source": []
  }
 ],
 "metadata": {
  "kernelspec": {
   "display_name": "Python 2",
   "language": "python",
   "name": "python2"
  },
  "language_info": {
   "codemirror_mode": {
    "name": "ipython",
    "version": 2
   },
   "file_extension": ".py",
   "mimetype": "text/x-python",
   "name": "python",
   "nbconvert_exporter": "python",
   "pygments_lexer": "ipython2",
   "version": "2.7.10"
  }
 },
 "nbformat": 4,
 "nbformat_minor": 0
}
